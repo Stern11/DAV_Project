{
 "cells": [
  {
   "cell_type": "code",
   "execution_count": null,
   "metadata": {},
   "outputs": [],
   "source": [
    "from selenium import webdriver\n",
    "from selenium.webdriver.common.by import By\n",
    "from selenium.webdriver.support.wait import WebDriverWait\n",
    "from selenium.webdriver.support import expected_conditions as EC"
   ]
  },
  {
   "cell_type": "code",
   "execution_count": null,
   "metadata": {},
   "outputs": [],
   "source": [
    "driver=webdriver.Chrome()"
   ]
  },
  {
   "cell_type": "code",
   "execution_count": null,
   "metadata": {},
   "outputs": [],
   "source": [
    "# Change URL for different sites\n",
    "# Currently it is for TOI, It can also be automated by accessing the search bar. \n",
    "\n",
    "driver.get(url=\"https://news.google.com/search?q=G-20%20site%3Ahttps%3A%2F%2Ftimesofindia.indiatimes.com%2F%3Ffrom%3Dmdr&hl=en-IN&gl=IN&ceid=IN%3Aen\")\n",
    "\n",
    "article= driver.find_element(By.XPATH,'//*[@id=\"yDmH0d\"]/c-wiz/div/div[2]/div[2]/div[2]/main/c-wiz/div[1]/div[1]/div/article/h3/a')\n",
    "# extract title of the text\n",
    "news_title= article.text\n",
    "print(news_title)\n",
    "\n",
    "# extract link from the article text\n",
    "news_link = driver.find_elements(By.PARTIAL_LINK_TEXT, news_title)\n",
    "news_link=news_link[0].get_attribute('href')\n",
    "\n",
    "# go to the article link\n",
    "driver.execute_script(\"window.open('about:blank','secondtab');\") \n",
    "driver.switch_to.window(\"secondtab\")\n",
    "driver.get(news_link)\n",
    "wait = WebDriverWait(driver, 10)\n",
    "\n",
    "# If there is a show more button click on it otherwise pass\n",
    "try:\n",
    "    dont_allow = driver.find_elements(By.PARTIAL_LINK_TEXT, \"Don't Allow\")    \n",
    "    dont_allow[0].click()\n",
    "except:\n",
    "    pass\n",
    "\n",
    "try:\n",
    "    popUp = driver.find_elements(By.XPATH,'//label[@for=\"Close\"]')\n",
    "    popUp[0].click()\n",
    "except:\n",
    "    pass\n",
    "\n",
    "try:\n",
    "    # Times of India : Read more\n",
    "    show_more= wait.until(EC.visibility_of_element_located((By.PARTIAL_LINK_TEXT, 'Read more')))\n",
    "    show_more.click()\n",
    "except:\n",
    "    pass\n",
    "\n",
    "# get the publish time from the article\n",
    "publish_time_element = wait.until(EC.visibility_of_element_located((By.XPATH, '//*[@id=\"app\"]/div/div[3]/div/div[3]/div[3]/div[1]/div[2]/div/div/div/div[2]/span[1]')))\n",
    "print(publish_time_element)\n",
    "publish_time= publish_time_element.text\n",
    "print(publish_time)\n",
    "\n",
    "\n",
    "# Access the content of the web page\n",
    "content_elements= driver.find_element(By.XPATH,'//*[@id=\"app\"]/div/div[3]/div/div[3]/div[3]/div[1]/div[2]/div/div/div/div[2]/p/text()')\n",
    "content= content_elements.text\n",
    "\n",
    "\n",
    "# Storing data in a dictionary\n",
    "details = {\n",
    "    'id': 1,\n",
    "    'publisher': 'TOI',\n",
    "    'title': news_title,\n",
    "    'link': news_link,\n",
    "    'publish_time':publish_time,\n",
    "    'content':content\n",
    "}\n",
    "\n",
    "print(details)"
   ]
  },
  {
   "cell_type": "code",
   "execution_count": null,
   "metadata": {},
   "outputs": [],
   "source": []
  },
  {
   "cell_type": "code",
   "execution_count": null,
   "metadata": {},
   "outputs": [],
   "source": []
  }
 ],
 "metadata": {
  "kernelspec": {
   "display_name": "Python 3",
   "language": "python",
   "name": "python3"
  },
  "language_info": {
   "codemirror_mode": {
    "name": "ipython",
    "version": 3
   },
   "file_extension": ".py",
   "mimetype": "text/x-python",
   "name": "python",
   "nbconvert_exporter": "python",
   "pygments_lexer": "ipython3",
   "version": "3.10.11"
  },
  "orig_nbformat": 4
 },
 "nbformat": 4,
 "nbformat_minor": 2
}

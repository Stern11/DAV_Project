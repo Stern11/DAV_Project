{
 "cells": [
  {
   "cell_type": "markdown",
   "metadata": {},
   "source": [
    "We have used Google news Module to extract articles from google news\n",
    "- We have taken only English articles in the region India\n",
    "- The articles taken are all between date \"01/01/2023\" and \"10/09/2023\"\n",
    "\n",
    "The cell below imports required modules and basically initializing."
   ]
  },
  {
   "cell_type": "code",
   "execution_count": null,
   "metadata": {},
   "outputs": [],
   "source": [
    "from GoogleNews import GoogleNews\n",
    "import time\n",
    "import csv\n",
    "\n",
    "# Create an instance of the GoogleNews class\n",
    "googlenews = GoogleNews(lang='en', start='01/01/2023', end='10/09/2023', region='in', encode='utf-8')\n",
    "\n",
    "print(googlenews.getVersion())"
   ]
  },
  {
   "cell_type": "markdown",
   "metadata": {},
   "source": [
    "Here we are searching for articles with keyword: \"G-20\"\n",
    "- Extracting first 24 Pages for the same and storing it in result var\n",
    "- It would be chronologically sorted in reverse order"
   ]
  },
  {
   "cell_type": "code",
   "execution_count": null,
   "metadata": {},
   "outputs": [],
   "source": [
    "googlenews.search('G-20')\n",
    "result=[]\n",
    "\n",
    "for i in range(1,25):\n",
    "    googlenews.get_page(i)\n",
    "    Temp=googlenews.results()\n",
    "    \n",
    "    for i in range(len(Temp)):\n",
    "        result.append(Temp[i])\n",
    "    \n",
    "    time.sleep(20)\n",
    "     \n",
    "fieldnames=result[0].keys\n",
    "print(len(result))\n",
    "print(fieldnames)"
   ]
  },
  {
   "cell_type": "markdown",
   "metadata": {},
   "source": [
    "Create a file named 'G20.csv' and storing result in it."
   ]
  },
  {
   "cell_type": "code",
   "execution_count": null,
   "metadata": {},
   "outputs": [],
   "source": [
    "# print(result)"
   ]
  },
  {
   "cell_type": "code",
   "execution_count": null,
   "metadata": {},
   "outputs": [],
   "source": [
    "with open('G20.csv','w',encoding='utf-8') as csvfile:\n",
    "        writer = csv.DictWriter(csvfile, fieldnames=['title','media','date','datetime','desc','link','img'])\n",
    "        writer.writeheader()\n",
    "        writer.writerows(result)\n",
    "        print(\"Data stored Successfully\")"
   ]
  },
  {
   "cell_type": "markdown",
   "metadata": {},
   "source": [
    "The links which we have extracted are nto accessable, thus the code below modifies the link to make it accessable.\n",
    "- The problem is: There is some additional characters in the string e.g. \"www.example.com/hello/&6t7ghjh\"\n",
    "- Thus we want to remove the portion after the '&' character which is not required and thus making the link accessable."
   ]
  },
  {
   "cell_type": "code",
   "execution_count": null,
   "metadata": {},
   "outputs": [],
   "source": [
    "import pandas as pd\n",
    "\n",
    "df=pd.read_csv('G20_new.csv')\n",
    "i=0\n",
    "for link in df['link']:\n",
    "    df['link'][i]=df['link'][i].split('&')[0]\n",
    "    i=i+1\n",
    "\n",
    "df.to_csv('G20_new.csv', index=False)"
   ]
  }
 ],
 "metadata": {
  "kernelspec": {
   "display_name": "Python 3",
   "language": "python",
   "name": "python3"
  },
  "language_info": {
   "codemirror_mode": {
    "name": "ipython",
    "version": 3
   },
   "file_extension": ".py",
   "mimetype": "text/x-python",
   "name": "python",
   "nbconvert_exporter": "python",
   "pygments_lexer": "ipython3",
   "version": "3.10.11"
  },
  "orig_nbformat": 4
 },
 "nbformat": 4,
 "nbformat_minor": 2
}
